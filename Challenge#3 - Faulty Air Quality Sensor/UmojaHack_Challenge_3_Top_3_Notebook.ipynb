{
  "nbformat": 4,
  "nbformat_minor": 0,
  "metadata": {
    "colab": {
      "name": "Challenge#3 - Faulty Air Quality Sensor",
      "provenance": []
    },
    "kernelspec": {
      "name": "python3",
      "display_name": "Python 3"
    },
    "language_info": {
      "name": "python"
    }
  },
  "cells": [
    {
      "cell_type": "markdown",
      "source": [
        "# IMPORTS"
      ],
      "metadata": {
        "id": "rnazxbDHUu8i"
      }
    },
    {
      "cell_type": "code",
      "metadata": {
        "id": "5aRGOfmQ-OtI"
      },
      "source": [
        "import os\n",
        "import gc\n",
        "import random\n",
        "import pandas as pd\n",
        "import numpy as np\n",
        "import lightgbm as lgb\n",
        "\n",
        "from tqdm.notebook import tqdm\n",
        "from tqdm import tqdm_notebook\n",
        "\n",
        "from sklearn.model_selection import GroupKFold\n",
        "from sklearn.metrics import accuracy_score\n",
        "from sklearn.preprocessing import LabelEncoder\n",
        "\n",
        "import warnings\n",
        "warnings.simplefilter('ignore')"
      ],
      "execution_count": 15,
      "outputs": []
    },
    {
      "cell_type": "markdown",
      "metadata": {
        "id": "XpQ6PCnNtP_4"
      },
      "source": [
        "# **Load - Process**"
      ]
    },
    {
      "cell_type": "code",
      "metadata": {
        "id": "FHCfc_HVtULf"
      },
      "source": [
        "class Process :\n",
        "\n",
        "  def LAG(self,data,LagFeature,shift=1,NewFeatures=[]) :\n",
        "    data[NewFeatures[0]]   = data[LagFeature]  - data[LagFeature].shift(shift)\n",
        "    data[NewFeatures[1]]   = data[LagFeature].shift(shift)\n",
        "\n",
        "  def LE(self,data,LE_cols = []) :\n",
        "    LE = LabelEncoder()\n",
        "    for le_col in LE_cols :\n",
        "      data[le_col] = LE.fit_transform(data[le_col])\n",
        "  \n",
        "  def process(self,train,test) :\n",
        "    data = pd.concat([train,test]).reset_index(drop=True)\n",
        "    \n",
        "    # time features \n",
        "    data['created_at'] = pd.to_datetime(data['Datetime'])\n",
        "    data['year'] = data['created_at'].dt.year\n",
        "    data['year'] = data['year'].astype(float)\n",
        "    data['month'] = data['created_at'].dt.month\n",
        "    data['day'] = data['created_at'].dt.day\n",
        "    data['weekday'] = data['created_at'].dt.weekday\n",
        "    data['weekofyear'] = data['created_at'].dt.weekofyear\n",
        "    data['hour'] = data['created_at'].dt.hour\n",
        "\n",
        "    # combination between time features\n",
        "    data['day_hour']  = data['day'].astype(str) + '-' + data['hour'].astype(str)\n",
        "    data['month_day'] = data['month'].astype(str) + '-' + data['day'].astype(str)\n",
        "\n",
        "    # Label Encoder\n",
        "    self.LE(data,LE_cols = ['day_hour','month_day'])\n",
        "\n",
        "    # FE\n",
        "    data = data.sort_values('Datetime').reset_index(drop=True)\n",
        "    self.LAG(data,LagFeature='Sensor1_PM2.5',shift=1,NewFeatures=['sensor1_diff_next','sensor1_next'])\n",
        "    self.LAG(data,LagFeature='Sensor1_PM2.5',shift=-1,NewFeatures=['sensor1_diff_before','sensor1_before'])\n",
        "    self.LAG(data,LagFeature='Sensor2_PM2.5',shift=1,NewFeatures=['sensor2_diff_next','sensor2_next'])\n",
        "    self.LAG(data,LagFeature='Sensor2_PM2.5',shift=-1,NewFeatures=['sensor2_diff_before','sensor2_before'])\n",
        "\n",
        "    # Get our New Train,Test\n",
        "    data['SplitBy']   = data['year'].astype(int).astype(str) + '-' + data['month'].astype(str) + '-' + data['day'].astype(str)\n",
        "    data = data.sort_values('SplitBy').reset_index(drop=True)\n",
        "    train = data[data['ID'].isin(train['ID'].values)].reset_index(drop=True)\n",
        "    train['Offset_fault'] = train['Offset_fault'].astype('int')\n",
        "    test = data[~data['ID'].isin(train['ID'].values)].reset_index(drop=True)\n",
        "\n",
        "    return train, test"
      ],
      "execution_count": 10,
      "outputs": []
    },
    {
      "cell_type": "code",
      "source": [
        "train = pd.read_csv('train.csv')\n",
        "test = pd.read_csv('test.csv')"
      ],
      "metadata": {
        "id": "loJYF5mb9lGM"
      },
      "execution_count": 11,
      "outputs": []
    },
    {
      "cell_type": "code",
      "source": [
        "processor = Process()\n",
        "train, test= processor.process(train,test)"
      ],
      "metadata": {
        "id": "4gBBFMokXIA0"
      },
      "execution_count": 12,
      "outputs": []
    },
    {
      "cell_type": "code",
      "source": [
        "print('unique days',train.SplitBy.nunique() , test.SplitBy.nunique())\n",
        "print('shape',train.shape , test.shape)"
      ],
      "metadata": {
        "colab": {
          "base_uri": "https://localhost:8080/"
        },
        "id": "5bzG__eQJYPy",
        "outputId": "d4f381e2-8dd0-485d-fd75-de675df1a935"
      },
      "execution_count": 13,
      "outputs": [
        {
          "output_type": "stream",
          "name": "stdout",
          "text": [
            "unique days 99 52\n",
            "shape (297177, 25) (127361, 25)\n"
          ]
        }
      ]
    },
    {
      "cell_type": "markdown",
      "metadata": {
        "id": "dlPfPBZz-xdo"
      },
      "source": [
        "# **Modeling**"
      ]
    },
    {
      "cell_type": "code",
      "source": [
        "class CFG :\n",
        "  SEED = 42\n",
        "  n_splits = 5\n",
        "\n",
        "  lgb_params = {'boosting_type': 'gbdt','objective': 'binary','metric': 'auc',\n",
        "                'n_estimators': 2500,'reg_lambda' :50,'num_leaves' : 81,\n",
        "                'seed': SEED,'silent':True,'early_stopping_rounds': 100,\n",
        "               }\n",
        "  remove_features = ['ID', 'Datetime',\"created_at\",'SplitBy' , 'folds', 'Offset_fault',]\n",
        "  TARGET_COL = 'Offset_fault'"
      ],
      "metadata": {
        "id": "T3hOkrFNYxHm"
      },
      "execution_count": 26,
      "outputs": []
    },
    {
      "cell_type": "code",
      "source": [
        "class CostumSplit :\n",
        "  def __init__(self,) :\n",
        "    self.n_splits = CFG.n_splits\n",
        "\n",
        "  def Split(self,Train_) :\n",
        "    kf = GroupKFold(n_splits=self.n_splits)\n",
        "\n",
        "    Train = Train_.copy()\n",
        "    Train = Train.drop_duplicates('SplitBy').reset_index(drop=True)\n",
        "    \n",
        "    groups = Train['SplitBy']\n",
        "    Train[\"folds\"]=-1   \n",
        "    for fold, (_, val_index) in enumerate(kf.split(Train,Train['Offset_fault'],groups)):\n",
        "          Train.loc[val_index, \"folds\"] = fold\n",
        "    return Train\n",
        "\n",
        "  def apply(self,train) :\n",
        "    mapper = dict(zip(self.Split(train)['SplitBy'].tolist(),\n",
        "                      self.Split(train)['folds'].tolist()))\n",
        "\n",
        "    train['folds'] = train['SplitBy'].map(mapper)\n",
        "    return train"
      ],
      "metadata": {
        "id": "6pJr-HO2BcWO"
      },
      "execution_count": 27,
      "outputs": []
    },
    {
      "cell_type": "code",
      "source": [
        "split = CostumSplit() \n",
        "\n",
        "train = split.apply(train)"
      ],
      "metadata": {
        "id": "3gNuMgtTYYK8"
      },
      "execution_count": 28,
      "outputs": []
    },
    {
      "cell_type": "code",
      "source": [
        "features_columns = [col for col in train.columns if col not in CFG.remove_features]\n",
        "len(features_columns)"
      ],
      "metadata": {
        "colab": {
          "base_uri": "https://localhost:8080/"
        },
        "id": "hm0AQWmpYq0r",
        "outputId": "99cca32f-3e33-4449-ff45-8163e9838224"
      },
      "execution_count": 29,
      "outputs": [
        {
          "output_type": "execute_result",
          "data": {
            "text/plain": [
              "20"
            ]
          },
          "metadata": {},
          "execution_count": 29
        }
      ]
    },
    {
      "cell_type": "code",
      "source": [
        "oof_lgb = np.zeros((train.shape[0],))\n",
        "test[CFG.TARGET_COL] = 0\n",
        "lgb_preds = []\n",
        "\n",
        "for fold in range(CFG.n_splits) :\n",
        "    print(50*'-')\n",
        "    print(f'Fold {fold+1} / {CFG.n_splits}' )\n",
        "\n",
        "    tr_x, tr_y = train[train['folds']!=fold][features_columns] , train[train['folds']!=fold][CFG.TARGET_COL] \n",
        "    vl_x, vl_y = train[train['folds']==fold][features_columns] , train[train['folds']==fold][CFG.TARGET_COL] \n",
        "    val_idx = vl_x.index.tolist()\n",
        "\n",
        "    train_data = lgb.Dataset(tr_x, label=tr_y)\n",
        "    valid_data = lgb.Dataset(vl_x, label=vl_y)\n",
        "\n",
        "    estimator = lgb.train(CFG.lgb_params,train_data,valid_sets = [train_data,valid_data],verbose_eval = 0)\n",
        "    \n",
        "    y_pred_val = estimator.predict(vl_x,num_iteration=estimator.best_iteration)\n",
        "    oof_lgb[val_idx] = y_pred_val\n",
        "    print(f'FOLD-{fold} accuracy score :',accuracy_score(vl_y, (y_pred_val>0.5)*1))\n",
        "\n",
        "    y_pred_test = estimator.predict(test[features_columns],num_iteration=estimator.best_iteration)\n",
        "    lgb_preds.append(y_pred_test)\n",
        "    print(50*'-')\n",
        "\n",
        "print('OOF score :',accuracy_score(train[CFG.TARGET_COL], (oof_lgb>0.5)*1))"
      ],
      "metadata": {
        "colab": {
          "base_uri": "https://localhost:8080/"
        },
        "id": "a0q2CU_nYUJB",
        "outputId": "b5fafe6d-6b81-4b65-85ff-8aa5681ceb65"
      },
      "execution_count": 33,
      "outputs": [
        {
          "output_type": "stream",
          "name": "stdout",
          "text": [
            "--------------------------------------------------\n",
            "Fold 1 / 5\n",
            "FOLD-0 accuracy score : 0.9912406059281427\n",
            "--------------------------------------------------\n",
            "--------------------------------------------------\n",
            "Fold 2 / 5\n",
            "FOLD-1 accuracy score : 0.9918887601390498\n",
            "--------------------------------------------------\n",
            "--------------------------------------------------\n",
            "Fold 3 / 5\n",
            "FOLD-2 accuracy score : 0.9920260595161345\n",
            "--------------------------------------------------\n",
            "--------------------------------------------------\n",
            "Fold 4 / 5\n",
            "FOLD-3 accuracy score : 0.9960781662046115\n",
            "--------------------------------------------------\n",
            "--------------------------------------------------\n",
            "Fold 5 / 5\n",
            "FOLD-4 accuracy score : 0.9951137552077083\n",
            "--------------------------------------------------\n",
            "OOF score : 0.9932531790818266\n"
          ]
        }
      ]
    },
    {
      "cell_type": "markdown",
      "source": [
        "# **SUBMISSION**"
      ],
      "metadata": {
        "id": "gxWmLDChbAEq"
      }
    },
    {
      "cell_type": "code",
      "source": [
        "SUB_FILE_NAME = 'WinningSolution.csv' ;sub_df = test[['ID']].copy() ; sub_df['Offset_fault'] = (np.mean(lgb_preds,axis=0)>0.5)*1\n",
        "sub_df.to_csv(SUB_FILE_NAME, index=False)\n",
        "sub_df.head(10)"
      ],
      "metadata": {
        "colab": {
          "base_uri": "https://localhost:8080/",
          "height": 363
        },
        "id": "u47maAY2YUGQ",
        "outputId": "32426f63-0f9a-4180-d59b-214a8565320b"
      },
      "execution_count": 32,
      "outputs": [
        {
          "output_type": "execute_result",
          "data": {
            "text/plain": [
              "                ID  Offset_fault\n",
              "0  ID_VJTCP5667QNH             0\n",
              "1  ID_Z4FVLMBG5SI8             0\n",
              "2  ID_1AKWB2POZX8Q             0\n",
              "3  ID_MD0HNZQZT1FQ             1\n",
              "4  ID_HJ7XVHB2GBFK             0\n",
              "5  ID_8GT0DMK2ZO33             0\n",
              "6  ID_M5Z3J91KLW8A             1\n",
              "7  ID_I4C5C9NCPXZY             0\n",
              "8  ID_R8WE3U29LXY4             1\n",
              "9  ID_98KEGPPXVOQU             0"
            ],
            "text/html": [
              "\n",
              "  <div id=\"df-6c6dc3a1-a6f3-4765-a5e6-5d5a81e262f1\">\n",
              "    <div class=\"colab-df-container\">\n",
              "      <div>\n",
              "<style scoped>\n",
              "    .dataframe tbody tr th:only-of-type {\n",
              "        vertical-align: middle;\n",
              "    }\n",
              "\n",
              "    .dataframe tbody tr th {\n",
              "        vertical-align: top;\n",
              "    }\n",
              "\n",
              "    .dataframe thead th {\n",
              "        text-align: right;\n",
              "    }\n",
              "</style>\n",
              "<table border=\"1\" class=\"dataframe\">\n",
              "  <thead>\n",
              "    <tr style=\"text-align: right;\">\n",
              "      <th></th>\n",
              "      <th>ID</th>\n",
              "      <th>Offset_fault</th>\n",
              "    </tr>\n",
              "  </thead>\n",
              "  <tbody>\n",
              "    <tr>\n",
              "      <th>0</th>\n",
              "      <td>ID_VJTCP5667QNH</td>\n",
              "      <td>0</td>\n",
              "    </tr>\n",
              "    <tr>\n",
              "      <th>1</th>\n",
              "      <td>ID_Z4FVLMBG5SI8</td>\n",
              "      <td>0</td>\n",
              "    </tr>\n",
              "    <tr>\n",
              "      <th>2</th>\n",
              "      <td>ID_1AKWB2POZX8Q</td>\n",
              "      <td>0</td>\n",
              "    </tr>\n",
              "    <tr>\n",
              "      <th>3</th>\n",
              "      <td>ID_MD0HNZQZT1FQ</td>\n",
              "      <td>1</td>\n",
              "    </tr>\n",
              "    <tr>\n",
              "      <th>4</th>\n",
              "      <td>ID_HJ7XVHB2GBFK</td>\n",
              "      <td>0</td>\n",
              "    </tr>\n",
              "    <tr>\n",
              "      <th>5</th>\n",
              "      <td>ID_8GT0DMK2ZO33</td>\n",
              "      <td>0</td>\n",
              "    </tr>\n",
              "    <tr>\n",
              "      <th>6</th>\n",
              "      <td>ID_M5Z3J91KLW8A</td>\n",
              "      <td>1</td>\n",
              "    </tr>\n",
              "    <tr>\n",
              "      <th>7</th>\n",
              "      <td>ID_I4C5C9NCPXZY</td>\n",
              "      <td>0</td>\n",
              "    </tr>\n",
              "    <tr>\n",
              "      <th>8</th>\n",
              "      <td>ID_R8WE3U29LXY4</td>\n",
              "      <td>1</td>\n",
              "    </tr>\n",
              "    <tr>\n",
              "      <th>9</th>\n",
              "      <td>ID_98KEGPPXVOQU</td>\n",
              "      <td>0</td>\n",
              "    </tr>\n",
              "  </tbody>\n",
              "</table>\n",
              "</div>\n",
              "      <button class=\"colab-df-convert\" onclick=\"convertToInteractive('df-6c6dc3a1-a6f3-4765-a5e6-5d5a81e262f1')\"\n",
              "              title=\"Convert this dataframe to an interactive table.\"\n",
              "              style=\"display:none;\">\n",
              "        \n",
              "  <svg xmlns=\"http://www.w3.org/2000/svg\" height=\"24px\"viewBox=\"0 0 24 24\"\n",
              "       width=\"24px\">\n",
              "    <path d=\"M0 0h24v24H0V0z\" fill=\"none\"/>\n",
              "    <path d=\"M18.56 5.44l.94 2.06.94-2.06 2.06-.94-2.06-.94-.94-2.06-.94 2.06-2.06.94zm-11 1L8.5 8.5l.94-2.06 2.06-.94-2.06-.94L8.5 2.5l-.94 2.06-2.06.94zm10 10l.94 2.06.94-2.06 2.06-.94-2.06-.94-.94-2.06-.94 2.06-2.06.94z\"/><path d=\"M17.41 7.96l-1.37-1.37c-.4-.4-.92-.59-1.43-.59-.52 0-1.04.2-1.43.59L10.3 9.45l-7.72 7.72c-.78.78-.78 2.05 0 2.83L4 21.41c.39.39.9.59 1.41.59.51 0 1.02-.2 1.41-.59l7.78-7.78 2.81-2.81c.8-.78.8-2.07 0-2.86zM5.41 20L4 18.59l7.72-7.72 1.47 1.35L5.41 20z\"/>\n",
              "  </svg>\n",
              "      </button>\n",
              "      \n",
              "  <style>\n",
              "    .colab-df-container {\n",
              "      display:flex;\n",
              "      flex-wrap:wrap;\n",
              "      gap: 12px;\n",
              "    }\n",
              "\n",
              "    .colab-df-convert {\n",
              "      background-color: #E8F0FE;\n",
              "      border: none;\n",
              "      border-radius: 50%;\n",
              "      cursor: pointer;\n",
              "      display: none;\n",
              "      fill: #1967D2;\n",
              "      height: 32px;\n",
              "      padding: 0 0 0 0;\n",
              "      width: 32px;\n",
              "    }\n",
              "\n",
              "    .colab-df-convert:hover {\n",
              "      background-color: #E2EBFA;\n",
              "      box-shadow: 0px 1px 2px rgba(60, 64, 67, 0.3), 0px 1px 3px 1px rgba(60, 64, 67, 0.15);\n",
              "      fill: #174EA6;\n",
              "    }\n",
              "\n",
              "    [theme=dark] .colab-df-convert {\n",
              "      background-color: #3B4455;\n",
              "      fill: #D2E3FC;\n",
              "    }\n",
              "\n",
              "    [theme=dark] .colab-df-convert:hover {\n",
              "      background-color: #434B5C;\n",
              "      box-shadow: 0px 1px 3px 1px rgba(0, 0, 0, 0.15);\n",
              "      filter: drop-shadow(0px 1px 2px rgba(0, 0, 0, 0.3));\n",
              "      fill: #FFFFFF;\n",
              "    }\n",
              "  </style>\n",
              "\n",
              "      <script>\n",
              "        const buttonEl =\n",
              "          document.querySelector('#df-6c6dc3a1-a6f3-4765-a5e6-5d5a81e262f1 button.colab-df-convert');\n",
              "        buttonEl.style.display =\n",
              "          google.colab.kernel.accessAllowed ? 'block' : 'none';\n",
              "\n",
              "        async function convertToInteractive(key) {\n",
              "          const element = document.querySelector('#df-6c6dc3a1-a6f3-4765-a5e6-5d5a81e262f1');\n",
              "          const dataTable =\n",
              "            await google.colab.kernel.invokeFunction('convertToInteractive',\n",
              "                                                     [key], {});\n",
              "          if (!dataTable) return;\n",
              "\n",
              "          const docLinkHtml = 'Like what you see? Visit the ' +\n",
              "            '<a target=\"_blank\" href=https://colab.research.google.com/notebooks/data_table.ipynb>data table notebook</a>'\n",
              "            + ' to learn more about interactive tables.';\n",
              "          element.innerHTML = '';\n",
              "          dataTable['output_type'] = 'display_data';\n",
              "          await google.colab.output.renderOutput(dataTable, element);\n",
              "          const docLink = document.createElement('div');\n",
              "          docLink.innerHTML = docLinkHtml;\n",
              "          element.appendChild(docLink);\n",
              "        }\n",
              "      </script>\n",
              "    </div>\n",
              "  </div>\n",
              "  "
            ]
          },
          "metadata": {},
          "execution_count": 32
        }
      ]
    }
  ]
}
