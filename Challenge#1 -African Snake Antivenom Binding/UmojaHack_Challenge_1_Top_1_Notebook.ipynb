{
  "nbformat": 4,
  "nbformat_minor": 0,
  "metadata": {
    "colab": {
      "name": "Challenge#1 - African Snake Antivenom Binding",
      "provenance": [],
      "collapsed_sections": []
    },
    "kernelspec": {
      "name": "python3",
      "display_name": "Python 3"
    },
    "language_info": {
      "name": "python"
    },
    "accelerator": "GPU"
  },
  "cells": [
    {
      "cell_type": "markdown",
      "source": [
        "# SETUP"
      ],
      "metadata": {
        "id": "tA6WnOxLhys7"
      }
    },
    {
      "cell_type": "code",
      "execution_count": null,
      "metadata": {
        "id": "zXHQEtzWhrSS"
      },
      "outputs": [],
      "source": [
        "!nvidia-smi"
      ]
    },
    {
      "cell_type": "markdown",
      "source": [
        "# IMPORTS"
      ],
      "metadata": {
        "id": "096OX259iWmc"
      }
    },
    {
      "cell_type": "code",
      "source": [
        "import random  ,os\n",
        "import numpy as np \n",
        "import pandas as pd\n",
        "import gc\n",
        "import time\n",
        "\n",
        "from sklearn.metrics import mean_squared_error\n",
        "from tqdm import tqdm\n",
        "from sklearn.model_selection import GroupKFold\n",
        "\n",
        "# torch\n",
        "import torch\n",
        "from torch import nn \n",
        "from torch.utils.data import DataLoader, Dataset\n",
        "from torch.utils.tensorboard import SummaryWriter\n",
        "from torch import nn\n",
        "from torch.nn import functional as F\n",
        "\n",
        "import warnings\n",
        "warnings.simplefilter('ignore')"
      ],
      "metadata": {
        "id": "W47qxZSFiP8D"
      },
      "execution_count": null,
      "outputs": []
    },
    {
      "cell_type": "markdown",
      "source": [
        "#Load Data"
      ],
      "metadata": {
        "id": "M1vXVtGQidCI"
      }
    },
    {
      "cell_type": "code",
      "source": [
        "train_df = pd.read_csv(\"https://storage.googleapis.com/umojahack2022/train.csv\")\n",
        "test_df = pd.read_csv(\"https://storage.googleapis.com/umojahack2022/test.csv\")"
      ],
      "metadata": {
        "id": "Cqr6bjLjibur"
      },
      "execution_count": null,
      "outputs": []
    },
    {
      "cell_type": "code",
      "source": [
        "print(train_df.shape , test_df.shape)\n",
        "print('-----------')\n",
        "print(train_df.Toxin_UniprotID.nunique() , test_df.Toxin_UniprotID.nunique())"
      ],
      "metadata": {
        "id": "WmPo4VXQieuy"
      },
      "execution_count": null,
      "outputs": []
    },
    {
      "cell_type": "markdown",
      "source": [
        "# UTILS"
      ],
      "metadata": {
        "id": "7ueaRC5ji8be"
      }
    },
    {
      "cell_type": "code",
      "source": [
        "def seed_all(SEED_VAL=1):\n",
        "        random.seed(SEED_VAL)\n",
        "        np.random.seed(SEED_VAL)\n",
        "        torch.manual_seed(SEED_VAL)\n",
        "        torch.cuda.manual_seed_all(SEED_VAL)\n",
        "        os.environ['PYTHONHASHSEED'] = str(SEED_VAL)\n",
        "        torch.backends.cudnn.deterministic = True\n",
        "        torch.backends.cudnn.benchmark = False"
      ],
      "metadata": {
        "id": "ok2pqKkeofGA"
      },
      "execution_count": null,
      "outputs": []
    },
    {
      "cell_type": "code",
      "source": [
        "def free_memory(sleep_time=0.1):\n",
        "    \"\"\" Black magic function to free torch memory and some jupyter whims \"\"\"\n",
        "    gc.collect()\n",
        "    torch.cuda.synchronize()\n",
        "    gc.collect()\n",
        "    torch.cuda.empty_cache()\n",
        "    time.sleep(sleep_time)"
      ],
      "metadata": {
        "id": "Crw-7RjUdUz4"
      },
      "execution_count": null,
      "outputs": []
    },
    {
      "cell_type": "code",
      "source": [
        "def get_seq_column_map(train, test, col):\n",
        "    sequences = []\n",
        "    for seq in train[col]:\n",
        "        sequences.extend(list(seq))\n",
        "    for seq in test[col]:\n",
        "        sequences.extend(list(seq))\n",
        "    unique = np.unique(sequences)\n",
        "    return {k: v for k, v in zip(unique, range(len(unique)))}\n",
        "\n",
        "def get_column_map(train, test, col):\n",
        "    sequences = []\n",
        "    unique_values = pd.concat([train[col], test[col]]).unique().tolist()\n",
        "    return {k: v for k, v in zip(unique_values, range(len(unique_values)))}"
      ],
      "metadata": {
        "id": "GyEThHRCi4gk"
      },
      "execution_count": null,
      "outputs": []
    },
    {
      "cell_type": "code",
      "source": [
        "class AntivenomChallengeDataSet(Dataset):\n",
        "    def __init__(\n",
        "        self,\n",
        "        amino_acid_map,\n",
        "        antivenom_map,\n",
        "        data,\n",
        "        is_train,\n",
        "        label_name=None,\n",
        "      ):\n",
        "        self.amino_acid_map = amino_acid_map\n",
        "        self.antivenom_map = antivenom_map\n",
        "        self.data = data\n",
        "        self.is_train = is_train\n",
        "        self.label_name = label_name\n",
        "\n",
        "    def __len__(self):\n",
        "        return len(self.data) \n",
        "\n",
        "    def __getitem__(self,idx):\n",
        "        row = self.data.iloc[idx]\n",
        "        kmer_seq = torch.as_tensor([self.amino_acid_map[e] for e in list(row[\"Toxin_Kmer\"])])\n",
        "        antivenom = torch.as_tensor(self.antivenom_map[row[\"Antivenom\"]])\n",
        "        position_start = torch.as_tensor(row[\"Kmer_Position_start\"])\n",
        "        position_end = torch.as_tensor(row[\"Kmer_Position_end\"])\n",
        "        \n",
        "        inputs = {\n",
        "            \"K_mer\": kmer_seq,\n",
        "            \"antivenom\": antivenom,\n",
        "            \"position_start\": position_start,\n",
        "            \"position_end\": position_end,\n",
        "        }\n",
        "\n",
        "        if self.is_train: \n",
        "            return inputs, torch.as_tensor([row[self.label_name]])\n",
        "        return inputs"
      ],
      "metadata": {
        "id": "9V8_CoFXi-V7"
      },
      "execution_count": null,
      "outputs": []
    },
    {
      "cell_type": "code",
      "source": [
        "class ResidualLSTM(nn.Module):\n",
        "\n",
        "    def __init__(self, d_model):\n",
        "        super(ResidualLSTM, self).__init__()\n",
        "        self.LSTM=nn.LSTM(d_model, d_model, num_layers=1, bidirectional=True,batch_first=True)\n",
        "        self.linear1=nn.Linear(d_model*2, d_model*4)\n",
        "        self.linear2=nn.Linear(d_model*4, d_model)\n",
        "\n",
        "    def forward(self, x):\n",
        "        res=x\n",
        "        x, _ = self.LSTM(x)\n",
        "        x=F.relu(self.linear1(x))\n",
        "        x=self.linear2(x)\n",
        "        x=res+x\n",
        "        return x\n",
        "\n",
        "class SimpleSeqModel(nn.Module):\n",
        "    \"\"\"\n",
        "    Credits : INstadeepStartNotebook & https://www.kaggle.com/code/shujun717/1-solution-lstm-cnn-transformer-1-fold\n",
        "    \"\"\"\n",
        "    def __init__(\n",
        "        self,\n",
        "        K_mer_emb_size,\n",
        "        K_mer_nunique,\n",
        "        antivenom_emb_size,\n",
        "        antivenom_unique,\n",
        "        max_Position_start,\n",
        "        Position_start_emb_size,\n",
        "    ): \n",
        "        super().__init__()\n",
        "        self.K_mer_emb_size = K_mer_emb_size        \n",
        "        self.K_mer_nunique = K_mer_nunique                \n",
        "        self.antivenom_emb_size = antivenom_emb_size  \n",
        "        self.antivenom_unique = antivenom_unique    \n",
        "        self.rnnlayers = 3\n",
        "        self.max_seq=None\n",
        "        self.nlayers=3\n",
        "        self.dropout=0\n",
        "        self.nheads=16\n",
        "\n",
        "        self.Kmer_emb_layer = nn.Embedding( num_embeddings=self.K_mer_nunique,embedding_dim=self.K_mer_emb_size,)\n",
        "        \n",
        "        embed_dim =self.K_mer_emb_size\n",
        "        self.pos_encoder = nn.ModuleList([ResidualLSTM(self.K_mer_emb_size) for i in range(self.rnnlayers)])\n",
        "        self.pos_encoder_dropout = nn.Dropout(self.dropout)\n",
        "        self.layer_normal = nn.LayerNorm(embed_dim)\n",
        "        encoder_layers = [nn.TransformerEncoderLayer(embed_dim, self.nheads, embed_dim*4, self.dropout) for i in range(self.nlayers)]\n",
        "        conv_layers = [nn.Conv1d(embed_dim,embed_dim,(self.nlayers-i)*2-1,stride=1,padding=0) for i in range(self.nlayers)]\n",
        "        deconv_layers = [nn.ConvTranspose1d(embed_dim,embed_dim,(self.nlayers-i)*2-1,stride=1,padding=0) for i in range(self.nlayers)]\n",
        "        layer_norm_layers = [nn.LayerNorm(embed_dim) for i in range(self.nlayers)]\n",
        "        layer_norm_layers2 = [nn.LayerNorm(embed_dim) for i in range(self.nlayers)]\n",
        "        self.transformer_encoder = nn.ModuleList(encoder_layers)\n",
        "        self.conv_layers = nn.ModuleList(conv_layers)\n",
        "        self.layer_norm_layers = nn.ModuleList(layer_norm_layers)\n",
        "        self.layer_norm_layers2 = nn.ModuleList(layer_norm_layers2)\n",
        "        self.deconv_layers = nn.ModuleList(deconv_layers)\n",
        "        self.pred = nn.Linear(embed_dim, 1)\n",
        "        self.downsample = nn.Linear(embed_dim*2,embed_dim)\n",
        "\n",
        "        self.Antivenom_emb = nn.Embedding(num_embeddings=self.antivenom_unique,embedding_dim=self.antivenom_emb_size,)\n",
        "        self.Position_start_emb = nn.Embedding(num_embeddings=max_Position_start,embedding_dim=Position_start_emb_size,)\n",
        "        self.Features = nn.Linear(in_features=self.antivenom_emb_size + Position_start_emb_size,out_features=128,)\n",
        "        self.Linear_1 = nn.Linear(in_features=1152,out_features=512,)\n",
        "        self.relu_1 = nn.ReLU()\n",
        "        self.Output = nn.Linear(in_features=self.Linear_1.out_features, out_features=1,)\n",
        "        \n",
        "        \n",
        "\n",
        "    def forward(self, inputs):\n",
        "        kmer_emb = self.Kmer_emb_layer(inputs[\"K_mer\"])\n",
        "        for lstm in self.pos_encoder:\n",
        "            kmer_emb=lstm(kmer_emb)\n",
        "        kmer_emb = torch.squeeze(kmer_emb)\n",
        "        kmer_emb = self.pos_encoder_dropout(kmer_emb)\n",
        "        kmer_emb = self.layer_normal(kmer_emb)\n",
        "\n",
        "        for conv, transformer_layer, layer_norm1, layer_norm2, deconv in zip(self.conv_layers,self.transformer_encoder,self.layer_norm_layers,\n",
        "                                                                             self.layer_norm_layers2,self.deconv_layers):\n",
        "            #LXBXC to BXCXL\n",
        "            res=kmer_emb\n",
        "            kmer_emb=F.relu(conv(kmer_emb.permute(1,2,0)).permute(2,0,1))\n",
        "            kmer_emb=layer_norm1(kmer_emb)\n",
        "            kmer_emb=transformer_layer(kmer_emb)\n",
        "            kmer_emb=F.relu(deconv(kmer_emb.permute(1,2,0)).permute(2,0,1))\n",
        "            kmer_emb=layer_norm2(kmer_emb)\n",
        "            kmer_emb=res+kmer_emb\n",
        "        \n",
        "        antivenom_emb = self.Antivenom_emb(inputs[\"antivenom\"])\n",
        "        position_start_emb = self.Position_start_emb(inputs[\"position_start\"])\n",
        "        emb_features = torch.cat((antivenom_emb, position_start_emb), axis=1)\n",
        "        features = self.Features(emb_features)\n",
        "\n",
        "        emb = torch.cat((torch.squeeze(kmer_emb[:,1,:], 1), features), axis=1)\n",
        "        linear_1 = self.relu_1(self.Linear_1(emb))\n",
        "        output = self.Output(linear_1)\n",
        "\n",
        "        return output"
      ],
      "metadata": {
        "id": "vtpVbYMSjBBS"
      },
      "execution_count": null,
      "outputs": []
    },
    {
      "cell_type": "code",
      "source": [
        "def train_func(fold,train_data_loader,val_data_loader,model,loss_fn,optimizer,num_epochs,device,writer,early_stopping=5,):  \n",
        "    def get_score(y_true, y_pred):\n",
        "      return mean_squared_error(y_true, y_pred,squared=False)\n",
        "    \n",
        "    seed_all()\n",
        "    total_batches = len(train_data_loader)\n",
        "    total_batches_val = len(val_data_loader)\n",
        "    train_loss = []\n",
        "    \n",
        "    n_iter = 0\n",
        "    best_outputs = []\n",
        "    for epoch in range(num_epochs): \n",
        "        tqdm_bar = tqdm(train_data_loader, desc=f\"epoch {epoch}\", position=0) \n",
        "        old_val_loss = np.inf\n",
        "        wating = 0\n",
        "        model.train()\n",
        "        for batch_number, (X, y) in enumerate(tqdm_bar):\n",
        "            y = y.type(torch.FloatTensor).to(device)\n",
        "            X = {k: X[k].to(device) for k in X}\n",
        "            \n",
        "            optimizer.zero_grad()\n",
        "            pred = model(X)\n",
        "            loss = loss_fn(pred, y)\n",
        "            loss.backward()\n",
        "            \n",
        "            torch.nn.utils.clip_grad_norm_(model.parameters(), 1.0)\n",
        "            optimizer.step()\n",
        "            \n",
        "            loss = loss.item()\n",
        "            train_loss.append(loss)\n",
        "\n",
        "            writer.add_scalar(\"loss/train\", loss, n_iter)\n",
        "            n_iter += 1\n",
        "\n",
        "            if batch_number % 25 == 0: \n",
        "                tqdm_bar.set_postfix({\"train\": f\"{batch_number}/{total_batches} loss: {loss:.3} epoch loss: {np.mean(train_loss):.3}\",},)\n",
        "\n",
        "        ############## validation  ############## \n",
        "        val_tqdm_bar = tqdm(val_data_loader, desc=f\"epoch {epoch}\", position=0, leave=True,) \n",
        "        final_outputs = []\n",
        "        final_targets = []  \n",
        "        val_loss = []\n",
        "        model.eval()\n",
        "        with torch.no_grad(): \n",
        "            for batch_number, (X, y) in enumerate(val_tqdm_bar):\n",
        "                y = y.type(torch.FloatTensor).to(device)\n",
        "                X = {k: X[k].to(device) for k in X}\n",
        "                \n",
        "                pred = model(X)\n",
        "                final_outputs.append(pred.cpu().detach().numpy())\n",
        "                final_targets.append(y.cpu().numpy())\n",
        "                val_loss.append(loss_fn(pred, y).item())\n",
        "\n",
        "                writer.add_scalar(\"loss/validation\", np.random.random(), n_iter)\n",
        "                if batch_number % 25 == 0: \n",
        "                    val_tqdm_bar.set_postfix({\"valid\": f\"{batch_number}/{total_batches_val} val loss: {np.mean(val_loss):.3}\"},)\n",
        "        \n",
        "        new_val_loss = np.mean(val_loss)\n",
        "        final_targets = np.concatenate(final_targets)\n",
        "        final_outputs = np.concatenate(final_outputs)\n",
        "        \n",
        "        scoree = get_score(final_targets,final_outputs)\n",
        "        print('Validation RMSE for this epoch',scoree)\n",
        "        print()\n",
        "        if new_val_loss > old_val_loss:\n",
        "            wating += wating\n",
        "        else:\n",
        "            old_val_loss = new_val_loss\n",
        "            best_outputs = final_outputs\n",
        "            torch.save(model, f\"model_fold{fold}.pth\")\n",
        "        if wating > early_stopping:\n",
        "            break\n",
        "    return best_outputs"
      ],
      "metadata": {
        "id": "6E7hoiNt1-TJ"
      },
      "execution_count": null,
      "outputs": []
    },
    {
      "cell_type": "code",
      "source": [
        "class Trainer :\n",
        "  def __init__(self,train_df,test_df) :\n",
        "    self.train_df = train_df\n",
        "    self.test_df = test_df\n",
        "    self.n_splits = 10\n",
        "\n",
        "    #Data loader params\n",
        "    self.batch_size = 512\n",
        "    self.num_workers = 0\n",
        "    self.shuffle = True\n",
        "    self.drop_last = False\n",
        "\n",
        "    # model params\n",
        "    self.device = \"cuda\" if torch.cuda.is_available() else \"cpu\"\n",
        "    self.num_epochs = 25\n",
        "    self.early_stopping = 5\n",
        "    self.lr = 1e-4\n",
        "\n",
        "  def seed_all(self):\n",
        "        random.seed(self.SEED_VAL)\n",
        "        np.random.seed(self.SEED_VAL)\n",
        "        torch.manual_seed(self.SEED_VAL)\n",
        "        torch.cuda.manual_seed_all(self.SEED_VAL)\n",
        "        os.environ['PYTHONHASHSEED'] = str(self.SEED_VAL)\n",
        "        torch.backends.cudnn.deterministic = True\n",
        "        torch.backends.cudnn.benchmark = False\n",
        "\n",
        "  def get_score(self,y_true, y_pred):\n",
        "    return mean_squared_error(y_true, y_pred,squared=False)\n",
        "\n",
        "  def Split(self,Train) :\n",
        "    X      = Train[[\"Toxin_UniprotID\"]]\n",
        "    y      = Train['Signal']\n",
        "    groups = Train[\"Toxin_UniprotID\"]\n",
        "    \n",
        "    kf = GroupKFold(n_splits=self.n_splits)\n",
        "    Train[\"folds\"]=-1   \n",
        "    for fold, (_, val_index) in enumerate(kf.split(X, y,groups=groups)):\n",
        "          Train.loc[val_index, \"folds\"] = fold\n",
        "    return Train\n",
        "\n",
        "  def TrainKfold(self,) :\n",
        "    seed_all()\n",
        "    amino_acid_map = get_seq_column_map(self.train_df, self.test_df, \"Toxin_Kmer\")\n",
        "    antivenom_map = get_column_map(self.train_df, self.test_df, \"Antivenom\")\n",
        "    max_Position_start = pd.concat([self.train_df[[\"Kmer_Position_start\"]], self.test_df[[\"Kmer_Position_start\"]]]).Kmer_Position_start.max()+1\n",
        "\n",
        "    self.train_df = self.Split(self.train_df)\n",
        "    oof = np.zeros((self.train_df.shape[0],1))\n",
        "\n",
        "    for fold in range(self.n_splits):\n",
        "      train_split_df = self.train_df[self.train_df.folds != fold]\n",
        "      val_split_df   = self.train_df[self.train_df.folds == fold]\n",
        "      val_split_df_index   = self.train_df[self.train_df.folds == fold].index.tolist()\n",
        "\n",
        "      train_dataset = AntivenomChallengeDataSet(amino_acid_map=amino_acid_map,antivenom_map=antivenom_map,\n",
        "                                                data=train_split_df,is_train=True,label_name=\"Signal\",)\n",
        "      val_dataset = AntivenomChallengeDataSet(amino_acid_map=amino_acid_map,antivenom_map=antivenom_map,\n",
        "                                              data=val_split_df,is_train=True,label_name=\"Signal\",)\n",
        "      test_dataset = AntivenomChallengeDataSet(amino_acid_map=amino_acid_map,antivenom_map=antivenom_map,data=test_df,is_train=False,)\n",
        "\n",
        "      train_data_loader = DataLoader(dataset=train_dataset,batch_size=self.batch_size,shuffle=self.shuffle, num_workers=self.num_workers,drop_last=self.drop_last, )\n",
        "      val_data_loader = DataLoader(dataset=val_dataset,batch_size=self.batch_size,shuffle=False,num_workers=self.num_workers,drop_last=False,  )\n",
        "      test_data_loader= DataLoader(dataset=test_dataset,batch_size=self.batch_size,shuffle=False,num_workers=self.num_workers,drop_last=False,)\n",
        "\n",
        "      \n",
        "\n",
        "      model = SimpleSeqModel(K_mer_emb_size=1024,K_mer_nunique=len(amino_acid_map),\n",
        "                            antivenom_emb_size=128,antivenom_unique=len(antivenom_map),\n",
        "                            max_Position_start=max_Position_start,Position_start_emb_size=64,)\n",
        "\n",
        "      loss_fn = nn.MSELoss()\n",
        "      model = model.to(self.device)\n",
        "      optimizer = torch.optim.Adam(model.parameters(), lr=self.lr)\n",
        "      writer = SummaryWriter()\n",
        "      writer.add_graph(model, {k: v.to(self.device) for k, v in next(iter(train_data_loader))[0].items()})\n",
        "\n",
        "      \n",
        "\n",
        "      oof_fold = train_func(fold,train_data_loader=train_data_loader,val_data_loader=val_data_loader,\n",
        "                            model=model,loss_fn=loss_fn,optimizer=optimizer,\n",
        "                            num_epochs=self.num_epochs,device=self.device,writer = writer , early_stopping=self.early_stopping,)\n",
        "\n",
        "      oof[val_split_df_index] = oof_fold\n",
        "\n",
        "    return oof\n",
        "\n",
        "  def INFERENCE(self,) :\n",
        "    seed_all()\n",
        "    amino_acid_map = get_seq_column_map(self.train_df, self.test_df, \"Toxin_Kmer\")\n",
        "    antivenom_map = get_column_map(self.train_df, self.test_df, \"Antivenom\")\n",
        "    max_Position_start = pd.concat([self.train_df[[\"Kmer_Position_start\"]], self.test_df[[\"Kmer_Position_start\"]]]).Kmer_Position_start.max()+1\n",
        "    test_dataset = AntivenomChallengeDataSet(amino_acid_map=amino_acid_map,antivenom_map=antivenom_map,data=self.test_df,is_train=False,)\n",
        "    test_data_loader= DataLoader(dataset=test_dataset,batch_size=self.batch_size,shuffle=False,num_workers=self.num_workers,drop_last=False,)\n",
        "    final_preds = []\n",
        "    for fold in range(self.n_splits):\n",
        "      path= f\"model_fold{fold}.pth\"\n",
        "      model = torch.load(path).to(self.device)\n",
        "      tqdm_bar = tqdm(test_data_loader, desc=f\"Inference-Fold{fold}\", position=0, leave=True) \n",
        "      total_batches = len(tqdm_bar)\n",
        "\n",
        "      preds = []\n",
        "      with torch.no_grad():\n",
        "          for batch_number, X in enumerate(tqdm_bar):\n",
        "              X= {k: X[k].to(self.device) for k in X}\n",
        "              pred = model(X)\n",
        "              preds.append(pred.cpu().numpy())\n",
        "\n",
        "          preds = np.concatenate(preds).reshape((-1))\n",
        "      final_preds.append(preds)\n",
        "    return np.mean(final_preds,0)"
      ],
      "metadata": {
        "id": "_ZDfuECwl2Lv"
      },
      "execution_count": null,
      "outputs": []
    },
    {
      "cell_type": "code",
      "source": [
        "AssazzinTrainer = Trainer(train_df,test_df)"
      ],
      "metadata": {
        "id": "ubqossgn4j1o"
      },
      "execution_count": null,
      "outputs": []
    },
    {
      "cell_type": "code",
      "source": [
        "free_memory(sleep_time=0.1)\n",
        "import gc ; gc.collect()"
      ],
      "metadata": {
        "id": "IVY-yUcj4jzZ"
      },
      "execution_count": null,
      "outputs": []
    },
    {
      "cell_type": "code",
      "source": [
        "OOF = AssazzinTrainer.TrainKfold()"
      ],
      "metadata": {
        "id": "HRkHazfZ4jxI"
      },
      "execution_count": null,
      "outputs": []
    },
    {
      "cell_type": "code",
      "source": [
        "print('OOF RMSE  :',AssazzinTrainer.get_score(train_df['Signal'],OOF))"
      ],
      "metadata": {
        "id": "o_Nl0DIB6XVL"
      },
      "execution_count": null,
      "outputs": []
    },
    {
      "cell_type": "markdown",
      "source": [
        "# INFERENCE & SUBMISSION"
      ],
      "metadata": {
        "id": "lTLtPTwunA-x"
      }
    },
    {
      "cell_type": "code",
      "source": [
        "test_pred = AssazzinTrainer.INFERENCE()"
      ],
      "metadata": {
        "id": "lG_QMOoJF9Pp"
      },
      "execution_count": null,
      "outputs": []
    },
    {
      "cell_type": "code",
      "source": [
        "sample_submission=test_df[[\"ID\"]]\n",
        "sample_submission[\"Signal\"] = np.clip(test_pred,train_df['Signal'].min(),train_df['Signal'].max())\n",
        "sample_submission.to_csv(\"AssazzinGoodBaseline_Complex_v3.csv\",index=False)"
      ],
      "metadata": {
        "id": "uGsLY7X54lFN"
      },
      "execution_count": null,
      "outputs": []
    },
    {
      "cell_type": "code",
      "source": [
        "sample_submission[\"Signal\"].hist()"
      ],
      "metadata": {
        "id": "34eEOKd0Gm50",
        "colab": {
          "base_uri": "https://localhost:8080/",
          "height": 282
        },
        "outputId": "2d0e9c6a-44f1-4617-a494-5454aca9d8d5"
      },
      "execution_count": null,
      "outputs": [
        {
          "output_type": "execute_result",
          "data": {
            "text/plain": [
              "<matplotlib.axes._subplots.AxesSubplot at 0x7fc6404fa1d0>"
            ]
          },
          "metadata": {},
          "execution_count": 87
        },
        {
          "output_type": "display_data",
          "data": {
            "text/plain": [
              "<Figure size 432x288 with 1 Axes>"
            ],
            "image/png": "[encoded data removed]"
          },
          "metadata": {
            "needs_background": "light"
          }
        }
      ]
    }
  ]
}